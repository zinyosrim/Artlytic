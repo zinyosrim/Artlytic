{
 "cells": [
  {
   "cell_type": "code",
   "execution_count": 55,
   "metadata": {
    "collapsed": true
   },
   "outputs": [],
   "source": [
    "# helpers\n",
    "\n",
    "def timestamp_index():\n",
    "    '''Return a unique string based on current time.'''\n",
    "    return datetime.now().isoformat().replace(':', '-').replace('.', '-')\n",
    "\n",
    "def strip_accents(s):\n",
    "    '''Normalize input string. Returns the string with removed accents but keeping Umlauts'''\n",
    "\n",
    "    return ''.join(c for c in unicodedata.normalize('NFD', s)\n",
    "              if not unicodedata.name(c).endswith('ACCENT'))\n",
    "\n",
    "def set_parsed_to_false():\n",
    "    '''Set the parsed status to false so the URLs can be parsed again'''\n",
    "    path = 'data/lot_URLs.json'\n",
    "    with open(path) as fp:\n",
    "        list = json.load(fp)\n",
    "    for element in list:\n",
    "        element['parsed'] = False\n",
    "    with open(path, 'w') as fp:\n",
    "        json.dump(list, fp, sort_keys=True, indent=4, separators=(',', ': '))\n",
    "set_parsed_to_false()"
   ]
  },
  {
   "cell_type": "code",
   "execution_count": null,
   "metadata": {
    "collapsed": true
   },
   "outputs": [],
   "source": [
    "def load_JSON_file_to_list(list):\n",
    "    file_name = artlytic.data_path + "
   ]
  },
  {
   "cell_type": "code",
   "execution_count": 62,
   "metadata": {},
   "outputs": [
    {
     "ename": "SyntaxError",
     "evalue": "can't assign to function call (<ipython-input-62-3acf0a3edb3f>, line 14)",
     "output_type": "error",
     "traceback": [
      "\u001b[0;36m  File \u001b[0;32m\"<ipython-input-62-3acf0a3edb3f>\"\u001b[0;36m, line \u001b[0;32m14\u001b[0m\n\u001b[0;31m    for keyword.lower() in museum_keywords:\u001b[0m\n\u001b[0m       ^\u001b[0m\n\u001b[0;31mSyntaxError\u001b[0m\u001b[0;31m:\u001b[0m can't assign to function call\n"
     ]
    }
   ],
   "source": [
    "from bs4 import BeautifulSoup\n",
    "import collections\n",
    "html = '<p id=\"main_center_0_lblExhibited\">Good, <b>bad</b>, and <i>ug<b>l</b><u>y</u></i></p>'\n",
    "soups = BeautifulSoup(html,'lxml')\n",
    "def number_of_exhibitions_in_major_museum(text):\n",
    "    '''Return number of occurences of museum related keywords in input text.'''\n",
    "    museum_keywords = ['museum', 'musée', 'museo', 'beyeler', 'thannhauser', \n",
    "                      'gmurzynska', 'georges petit', 'matthiesen', 'national gallery', 'tate modern',\n",
    "                      'somerset house', 'wilanów palace', 'the national art center', 'Galleria degli Uffizi',\n",
    "                      'National Portrait Gallery', 'Art Institute of Chicago', 'Saatchi Gallery',\n",
    "                      'Wawel Royal Castle', 'Galleria dell''Accademia', 'National Galleries of Scotland',\n",
    "                      'Grand Palais', 'Tretyakov', 'Tate Britain', 'Royal Academy of Arts',\n",
    "                      'Minneapolis Institute of Art']\n",
    "    counter = 0\n",
    "    for keyword.lower() in museum_keywords:\n",
    "        counter += text.lower().count(keyword)\n",
    "    return counter\n",
    "def parse_exhibited_in(soup):\n",
    "    exhibited_in = soup.find('p', id=\"main_center_0_lblExhibited\")\n",
    "    return \"\" if not exhibited_in else soup.find('p', id=\"main_center_0_lblExhibited\").get_text()\n",
    "def parse_exhibited_in_museums(soup):\n",
    "    e = parse_exhibited_in(soup) \n",
    "    if e == \"\": return 0\n",
    "    else:\n",
    "        exhibited_text_lower = e.replace('\\n',' ').replace('\\r',' ').lower()\n",
    "        return  number_of_exhibitions_in_major_museum(exhibited_text_lower)\n",
    "parse_exhibited_in_museums(soups)"
   ]
  },
  {
   "cell_type": "code",
   "execution_count": 49,
   "metadata": {},
   "outputs": [
    {
     "name": "stdout",
     "output_type": "stream",
     "text": [
      "['/en/auctions/ecatalogue/2017/impressionist-modern-art-day-sale-n09711/lot.382.html', '/en/auctions/ecatalogue/2017/impressionist-modern-art-evening-sale-n09710/lot.22.html', '/en/auctions/ecatalogue/2017/impressionist-modern-art-evening-sale-n09710/lot.8.html', '/en/auctions/ecatalogue/2016/impressionist-modern-art-day-sale-l17004/lot.130.html', '/en/auctions/ecatalogue/2017/livres-et-manuscrits-pf1703/lot.92.html', '/en/auctions/ecatalogue/2016/impressionist-modern-art-day-sale-n09568/lot.106.html', '/en/auctions/ecatalogue/2016/contemporary-curated-n09553/lot.231.html', '/en/auctions/ecatalogue/2016/impressionist-modern-art-day-sale-l16007/lot.108.html', '/en/auctions/ecatalogue/2015/contemporary-art-day-auction-n09501/lot.183.html', '/en/auctions/ecatalogue/2016/impressionist-modern-art-evening-sale-n09497/lot.25.html', '/en/auctions/ecatalogue/2016/impressionist-modern-art-evening-sale-n09497/lot.36.html', '/en/auctions/ecatalogue/2016/impressionist-modern-art-evening-sale-n09497/lot.59.html', '/en/auctions/ecatalogue/2016/impressionist-modern-art-evening-sale-n09497/lot.30.html', '/en/auctions/ecatalogue/2016/contemporary-curated-l16026/lot.93.html', '/en/auctions/ecatalogue/2016/impressionist-modern-art-day-sale-l16004/lot.195.html', '/en/auctions/ecatalogue/2016/impressionist-modern-art-evening-sale-l16002/lot.23.html', '/en/auctions/ecatalogue/2016/impressionist-modern-art-evening-sale-l16002/lot.28.html', '/en/auctions/ecatalogue/2016/impressionist-modern-art-evening-sale-l16002/lot.16.html', '/en/auctions/ecatalogue/2015/livres-manuscrits-pf1513/lot.115.html', '/en/auctions/ecatalogue/2015/art-impressionniste-moderne-pf1516/lot.14.html', '/en/auctions/ecatalogue/2015/music-continental-books-manuscripts-l15406/lot.65.html', '/en/auctions/ecatalogue/2014/impressionist-modern-art-day-sale-n09416/lot.332.html', '/en/auctions/ecatalogue/2015/impressionist-modern-art-evening-sale-n09415/lot.22.html', '/en/auctions/ecatalogue/2015/impressionist-modern-art-evening-sale-n09415/lot.25.html']\n"
     ]
    }
   ],
   "source": [
    "#from selenium.webdriver.support.ui import WebDriverWait as wait\n",
    "from selenium import webdriver\n",
    "#from selenium.webdriver import DesiredCapabilities\n",
    "\n",
    "#desired_capabilities = DesiredCapabilities.PHANTOMJS.copy()\n",
    "#desired_capabilities['phantomjs.page.customHeaders.User-Agent'] = 'Mozilla/5.0'\n",
    "                                                                  #'AppleWebKit/537.36 (KHTML, like Gecko) ' \\\n",
    "                                                                  #'Chrome/39.0.2171.95 Safari/537.36'\n",
    "#driver = webdriver.PhantomJS(desired_capabilities=desired_capabilities)\n",
    "driver.get('http://www.sothebys.com/en/search-results.html?keyword=monet#&filter=type/LOT+period/Past')\n",
    "\n",
    "source_code = driver.page_source\n",
    "\n",
    "soup = BeautifulSoup(source_code, 'lxml')\n",
    "search_results = soup.find_all(\"div\", class_='search-results-name')\n",
    "# identify each URL and collect in the list search_results\n",
    "# print(search_results)\n",
    "search_result_url_list = []\n",
    "for search_result in search_results:\n",
    "    try:\n",
    "        lot_link = search_result.find(\"a\")\n",
    "        search_result_url_list.append(lot_link['href'])\n",
    "        #search_result_url_list.append(re.match(r'href', search_result)[0]) \n",
    "    except:\n",
    "        pass #not a valid link for us\n",
    "print(search_result_url_list)"
   ]
  },
  {
   "cell_type": "code",
   "execution_count": 50,
   "metadata": {},
   "outputs": [
    {
     "data": {
      "text/plain": [
       "24"
      ]
     },
     "execution_count": 50,
     "metadata": {},
     "output_type": "execute_result"
    }
   ],
   "source": [
    "len(search_result_url_list)"
   ]
  },
  {
   "cell_type": "code",
   "execution_count": 41,
   "metadata": {},
   "outputs": [
    {
     "name": "stdout",
     "output_type": "stream",
     "text": [
      "[]\n"
     ]
    }
   ],
   "source": [
    "import requests\n",
    "from bs4 import BeautifulSoup\n",
    "\n",
    "ua = {\"User-Agent\":\"Mozilla/5.0\"}\n",
    "url = \"http://www.sothebys.com/en/search-results.html?keyword=degas%27\"\n",
    "page = requests.get(url, headers=ua)\n",
    "soup = BeautifulSoup(page.text, \"lxml\")\n",
    "\n",
    "search_results = soup.find_all(\"div\", class_='search-results-name')\n",
    "search_results_url_list = []\n",
    "for search_result in search_results:\n",
    "    try:\n",
    "        lot_link = search_result.find(\"a\")\n",
    "        search_results_url_list.append(lot_link['href'])\n",
    "        #search_result_url_list.append(re.match(r'href', search_result)[0]) \n",
    "    except:\n",
    "        pass #not a valid link for us\n",
    "print(search_results_url_list)"
   ]
  },
  {
   "cell_type": "code",
   "execution_count": null,
   "metadata": {
    "collapsed": true
   },
   "outputs": [],
   "source": []
  },
  {
   "cell_type": "code",
   "execution_count": 74,
   "metadata": {},
   "outputs": [
    {
     "name": "stdout",
     "output_type": "stream",
     "text": [
      "['/en/auctions/ecatalogue/2017/impressionist-modern-art-day-sale-n09711/lot.382.html', '/en/auctions/ecatalogue/2017/impressionist-modern-art-evening-sale-n09710/lot.22.html', '/en/auctions/ecatalogue/2017/impressionist-modern-art-evening-sale-n09710/lot.8.html', '/en/auctions/ecatalogue/2016/impressionist-modern-art-day-sale-l17004/lot.130.html', '/en/auctions/ecatalogue/2017/livres-et-manuscrits-pf1703/lot.92.html', '/en/auctions/ecatalogue/2016/impressionist-modern-art-day-sale-n09568/lot.106.html', '/en/auctions/ecatalogue/2016/contemporary-curated-n09553/lot.231.html', '/en/auctions/ecatalogue/2016/impressionist-modern-art-day-sale-l16007/lot.108.html', '/en/auctions/ecatalogue/2015/contemporary-art-day-auction-n09501/lot.183.html', '/en/auctions/ecatalogue/2016/impressionist-modern-art-evening-sale-n09497/lot.25.html', '/en/auctions/ecatalogue/2016/impressionist-modern-art-evening-sale-n09497/lot.36.html', '/en/auctions/ecatalogue/2016/impressionist-modern-art-evening-sale-n09497/lot.59.html', '/en/auctions/ecatalogue/2016/impressionist-modern-art-evening-sale-n09497/lot.30.html', '/en/auctions/ecatalogue/2016/contemporary-curated-l16026/lot.93.html', '/en/auctions/ecatalogue/2016/impressionist-modern-art-day-sale-l16004/lot.195.html', '/en/auctions/ecatalogue/2016/impressionist-modern-art-evening-sale-l16002/lot.23.html', '/en/auctions/ecatalogue/2016/impressionist-modern-art-evening-sale-l16002/lot.28.html', '/en/auctions/ecatalogue/2016/impressionist-modern-art-evening-sale-l16002/lot.16.html', '/en/auctions/ecatalogue/2015/livres-manuscrits-pf1513/lot.115.html', '/en/auctions/ecatalogue/2015/art-impressionniste-moderne-pf1516/lot.14.html', '/en/auctions/ecatalogue/2015/music-continental-books-manuscripts-l15406/lot.65.html', '/en/auctions/ecatalogue/2014/impressionist-modern-art-day-sale-n09416/lot.332.html', '/en/auctions/ecatalogue/2015/impressionist-modern-art-evening-sale-n09415/lot.22.html', '/en/auctions/ecatalogue/2015/impressionist-modern-art-evening-sale-n09415/lot.25.html', '/en/auctions/ecatalogue/2015/impressionist-modern-art-evening-sale-n09415/lot.16.html', '/en/auctions/ecatalogue/2015/masterworks-collection-a-alfred-taubman-n09430/lot.66.html', '/en/auctions/ecatalogue/2015/contemporary-art-day-auction-l15025/lot.453.html', '/en/auctions/ecatalogue/2015/bibliotheque-stephane-mallarme-pf1543/lot.208.html', '/en/auctions/ecatalogue/2015/bibliotheque-stephane-mallarme-pf1543/lot.132.html', '/en/auctions/ecatalogue/2015/bibliotheque-stephane-mallarme-pf1543/lot.146.html', '/en/auctions/ecatalogue/2015/bibliotheque-stephane-mallarme-pf1543/lot.84.html', '/en/auctions/ecatalogue/2015/bibliotheque-stephane-mallarme-pf1543/lot.153A.html', '/en/auctions/ecatalogue/2015/bibliotheque-stephane-mallarme-pf1543/lot.124.html', '/en/auctions/ecatalogue/2015/bibliotheque-stephane-mallarme-pf1543/lot.169.html', '/en/auctions/ecatalogue/2015/bibliotheque-stephane-mallarme-pf1543/lot.135.html', '/en/auctions/ecatalogue/2015/bibliotheque-stephane-mallarme-pf1543/lot.276.html', '/en/auctions/ecatalogue/2015/bibliotheque-stephane-mallarme-pf1543/lot.5.html', '/en/auctions/ecatalogue/2015/bibliotheque-stephane-mallarme-pf1543/lot.245.html', '/en/auctions/ecatalogue/2014/impressionist-modern-art-day-sale-l15007/lot.417.html', '/en/auctions/ecatalogue/2014/impressionist-modern-art-day-sale-l15007/lot.347.html', '/en/auctions/ecatalogue/2014/impressionist-modern-art-day-sale-l15007/lot.423.html', '/en/auctions/ecatalogue/2015/impressionist-modern-art-evening-sale-l15006/lot.45.html', '/en/auctions/ecatalogue/2015/impressionist-modern-art-evening-sale-l15006/lot.15.html', '/en/auctions/ecatalogue/2015/impressionist-modern-art-evening-sale-l15006/lot.10.html', '/en/auctions/ecatalogue/2015/music-continental-russian-books-manuscripts-l15402/lot.169.html', '/en/auctions/ecatalogue/2015/music-continental-russian-books-manuscripts-l15402/lot.170.html', '/en/auctions/ecatalogue/2015/impressionist-modern-art-day-sale-n09341/lot.129.html', '/en/auctions/ecatalogue/2015/impressionist-modern-art-day-sale-n09341/lot.328.html', '/en/auctions/ecatalogue/2015/impressionist-modern-art-day-sale-n09341/lot.253.html', '/en/auctions/ecatalogue/2015/impressionist-modern-art-day-sale-n09341/lot.252.html', '/en/auctions/ecatalogue/2015/impressionist-modern-art-evening-sale-n09340/lot.47.html', '/en/auctions/ecatalogue/2015/impressionist-modern-art-evening-sale-n09340/lot.49.html', '/en/auctions/ecatalogue/2015/impressionist-modern-art-evening-sale-n09340/lot.28.html', '/en/auctions/ecatalogue/2015/impressionist-modern-art-evening-sale-n09340/lot.40.html', '/en/auctions/ecatalogue/2015/impressionist-modern-art-evening-sale-n09340/lot.19.html', '/en/auctions/ecatalogue/2015/impressionist-modern-art-evening-sale-n09340/lot.30.html', '/en/auctions/ecatalogue/2015/contemporary-art-doha-do1501/lot.7.html', '/en/auctions/ecatalogue/2015/impressionist-modern-art-day-sale-l15004/lot.339.html', '/en/auctions/ecatalogue/2015/impressionist-modern-art-day-sale-l15004/lot.325.html', '/en/auctions/ecatalogue/2015/impressionist-modern-art-day-sale-l15004/lot.107.html', '/en/auctions/ecatalogue/2015/impressionist-modern-art-evening-sale-l15002/lot.15.html', '/en/auctions/ecatalogue/2015/impressionist-modern-art-evening-sale-l15002/lot.21.html', '/en/auctions/ecatalogue/2015/impressionist-modern-art-evening-sale-l15002/lot.4.html', '/en/auctions/ecatalogue/2015/impressionist-modern-art-evening-sale-l15002/lot.29.html', '/en/auctions/ecatalogue/2015/impressionist-modern-art-evening-sale-l15002/lot.8.html', '/en/auctions/ecatalogue/2015/impressionist-modern-art-evening-sale-l15002/lot.16.html', '/en/auctions/ecatalogue/2014/impressionist-modern-art-n09206/lot.24.html', '/en/auctions/ecatalogue/2014/175-masterworks-n09275/lot.119.html', '/en/auctions/ecatalogue/2014/175-masterworks-n09275/lot.41.html', '/en/auctions/ecatalogue/2014/175-masterworks-n09275/lot.121.html', '/en/auctions/ecatalogue/2014/175-masterworks-n09275/lot.117.html', '/en/auctions/ecatalogue/2014/books-manuscripts-n09237/lot.61.html', '/en/auctions/ecatalogue/2014/masterworks-mellon-n09245/lot.43.html', '/en/auctions/ecatalogue/2014/bibliotheque-carlo-de-poortere-pf1443/lot.240.html', '/en/auctions/ecatalogue/2014/bibliotheque-carlo-de-poortere-pf1443/lot.181.html', '/en/auctions/ecatalogue/2014/impressionist-modern-art-day-sale-n09220/lot.392.html', '/en/auctions/ecatalogue/2014/impressionist-modern-art-evening-sale-n09219/lot.28.html', '/en/auctions/ecatalogue/2014/impressionist-modern-art-evening-sale-n09219/lot.29.html', '/en/auctions/ecatalogue/2014/impressionist-modern-art-evening-sale-n09219/lot.20.html', '/en/auctions/ecatalogue/2014/impressionist-modern-art-evening-sale-n09219/lot.30.html', '/en/auctions/ecatalogue/2014/contemporary-art-day-auction-l14025/lot.394.html', '/en/auctions/ecatalogue/2014/impressionist-modern-art-day-sale-l14007/lot.409.html', '/en/auctions/ecatalogue/2014/impressionist-modern-art-evening-sale-l14006/lot.17.html', '/en/auctions/ecatalogue/2014/impressionist-modern-art-evening-sale-l14006/lot.9.html', '/en/auctions/ecatalogue/2014/impressionist-modern-art-evening-sale-l14006/lot.8.html', '/en/auctions/ecatalogue/2014/impressionist-modern-art-n09122/lot.26.html', '/en/auctions/ecatalogue/2014/impressionist-modern-art-day-sale-n09140/lot.222.html', '/en/auctions/ecatalogue/2014/impressionist-modern-art-day-sale-n09140/lot.152.html', '/en/auctions/ecatalogue/2014/impressionist-modern-art-evening-sale-n09139/lot.28.html', '/en/auctions/ecatalogue/2014/impressionist-modern-art-evening-sale-n09139/lot.23.html', '/en/auctions/ecatalogue/2014/impressionist-modern-art-evening-sale-n09139/lot.10.html', '/en/auctions/ecatalogue/2014/contemporary-art-day-auction-l14021/lot.391.html', '/en/auctions/ecatalogue/2014/impressionist-modern-art-day-sale-l14004/lot.217.html', '/en/auctions/ecatalogue/2014/impressionist-modern-art-day-sale-l14004/lot.142.html', '/en/auctions/ecatalogue/2014/impressionist-modern-art-day-sale-l14004/lot.482.html', '/en/auctions/ecatalogue/2014/impressionist-modern-art-evening-sale-l14002/lot.47.html', '/en/auctions/ecatalogue/2014/impressionist-modern-art-evening-sale-l14002/lot.86.html', '/en/auctions/ecatalogue/2014/impressionist-modern-art-evening-sale-l14002/lot.78.html', '/en/auctions/ecatalogue/2013/magnificent-jewels-n09054/lot.144.html', '/en/auctions/ecatalogue/2013/magnificent-jewels-n09054/lot.132.html', '/en/auctions/ecatalogue/2013/magnificent-jewels-n09054/lot.123.html', '/en/auctions/ecatalogue/2013/magnificent-jewels-n09054/lot.148.html', '/en/auctions/ecatalogue/2013/magnificent-jewels-n09054/lot.145.html', '/en/auctions/ecatalogue/2013/magnificent-jewels-n09054/lot.103.html', '/en/auctions/ecatalogue/2013/magnificent-jewels-n09054/lot.142.html', '/en/auctions/ecatalogue/2013/magnificent-jewels-n09054/lot.136.html', '/en/auctions/ecatalogue/2013/magnificent-jewels-n09054/lot.104.html', '/en/auctions/ecatalogue/2013/magnificent-jewels-n09054/lot.119.html', '/en/auctions/ecatalogue/2013/magnificent-jewels-n09054/lot.130.html', '/en/auctions/ecatalogue/2013/magnificent-jewels-n09054/lot.120.html', '/en/auctions/ecatalogue/2013/magnificent-jewels-n09054/lot.135.html', '/en/auctions/ecatalogue/2013/magnificent-jewels-n09054/lot.124.html', '/en/auctions/ecatalogue/2013/magnificent-jewels-n09054/lot.153.html', '/en/auctions/ecatalogue/2013/magnificent-jewels-n09054/lot.151.html', '/en/auctions/ecatalogue/2013/magnificent-jewels-n09054/lot.152.html', '/en/auctions/ecatalogue/2013/magnificent-jewels-n09054/lot.141.html', '/en/auctions/ecatalogue/2013/magnificent-jewels-n09054/lot.115.html', '/en/auctions/ecatalogue/2013/magnificent-jewels-n09054/lot.105.html', '/en/auctions/ecatalogue/2013/magnificent-jewels-n09054/lot.125.html', '/en/auctions/ecatalogue/2013/magnificent-jewels-n09054/lot.147.html', '/en/auctions/ecatalogue/2013/magnificent-jewels-n09054/lot.149.html', '/en/auctions/ecatalogue/2013/magnificent-jewels-n09054/lot.137.html', '/en/auctions/ecatalogue/2013/magnificent-jewels-n09054/lot.138.html', '/en/auctions/ecatalogue/2013/magnificent-jewels-n09054/lot.150.html', '/en/auctions/ecatalogue/2013/magnificent-jewels-n09054/lot.146.html', '/en/auctions/ecatalogue/2013/magnificent-jewels-n09054/lot.116.html', '/en/auctions/ecatalogue/2013/magnificent-jewels-n09054/lot.140.html', '/en/auctions/ecatalogue/2013/magnificent-jewels-n09054/lot.133.html', '/en/auctions/ecatalogue/2013/magnificent-jewels-n09054/lot.117.html', '/en/auctions/ecatalogue/2013/magnificent-jewels-n09054/lot.126.html', '/en/auctions/ecatalogue/2013/magnificent-jewels-n09054/lot.122.html', '/en/auctions/ecatalogue/2013/magnificent-jewels-n09054/lot.139.html', '/en/auctions/ecatalogue/2013/magnificent-jewels-n09054/lot.121.html', '/en/auctions/ecatalogue/2013/magnificent-jewels-n09054/lot.128.html', '/en/auctions/ecatalogue/2013/magnificent-jewels-n09054/lot.129.html', '/en/auctions/ecatalogue/2013/magnificent-jewels-n09054/lot.118.html', '/en/auctions/ecatalogue/2013/magnificent-jewels-n09054/lot.134.html', '/en/auctions/ecatalogue/2013/magnificent-jewels-n09054/lot.143.html', '/en/auctions/ecatalogue/2013/magnificent-jewels-n09054/lot.131.html', '/en/auctions/ecatalogue/2013/magnificent-jewels-n09054/lot.127.html', '/en/auctions/ecatalogue/2013/magnificent-jewels-n09054/lot.102.html', '/en/auctions/ecatalogue/2013/magnificent-jewels-n09054/lot.114.html', '/en/auctions/ecatalogue/2013/watches-n09055/lot.37.html', '/en/auctions/ecatalogue/2013/watches-n09055/lot.48.html', '/en/auctions/ecatalogue/2013/watches-n09055/lot.49.html', '/en/auctions/ecatalogue/2013/watches-n09055/lot.47.html', '/en/auctions/ecatalogue/2013/books-manuscripts-n09057/lot.157.html', '/en/auctions/ecatalogue/2013/19th-century-european-art-n09034/lot.61.html', '/en/auctions/ecatalogue/2013/impressionist-modern-art-evening-sale-n09035/lot.55.html', '/en/auctions/ecatalogue/2013/impressionist-modern-art-evening-sale-n09035/lot.32.html', '/en/auctions/ecatalogue/2013/impressionist-modern-art-evening-sale-n09035/lot.21.html', '/en/auctions/ecatalogue/2013/contemporary-art-day-auction-l13025/lot.139.html', '/en/auctions/ecatalogue/2013/impressionist-modern-art-n09022/lot.17.html', '/en/auctions/ecatalogue/2013/impressionist-modern-art-day-sale-l13007/lot.441.html', '/en/auctions/ecatalogue/2013/impressionist-and-modern-works-on-paper-l13008/lot.172.html', '/en/auctions/ecatalogue/2013/impressionist-modern-art-evening-sale-l13006/lot.42.html', '/en/auctions/ecatalogue/2013/impressionist-modern-art-evening-sale-l13006/lot.56.html', '/en/auctions/ecatalogue/2013/impressionist-modern-art-evening-sale-l13006/lot.61.html', '/en/auctions/ecatalogue/2013/collection-raoul-simonson-monique-albert-kies-pf1331/lot.106.html', '/en/auctions/ecatalogue/2013/livres-et-manuscrits/lot.71.html', '/en/auctions/ecatalogue/2013/may-2013-contemporary-evening-n08991/lot.38.html', '/en/auctions/ecatalogue/2013/19th-century-european-art-n08989/lot.63.html', '/en/auctions/ecatalogue/2013/impressionist-modern-art-day-sale-n08988/lot.486.html', '/en/auctions/ecatalogue/2013/impressionist-modern-art-evening-sale-n08987/lot.27.html', '/en/auctions/ecatalogue/2013/impressionist-modern-art-evening-sale-n08987/lot.63.html', '/en/auctions/ecatalogue/2013/impressionist-modern-art-evening-sale-n08987/lot.22.html', '/en/auctions/ecatalogue/2013/impressionist-modern-art-day-sale-l13004/lot.374.html', '/en/auctions/ecatalogue/2013/impressionist-surrealist-art-evening-sal-l13003/lot.55.html', '/en/auctions/ecatalogue/2013/impressionist-modern-art-evening-sale-l13002/lot.20.html', '/en/auctions/ecatalogue/2013/impressionist-modern-art-evening-sale-l13002/lot.16.html', '/en/auctions/ecatalogue/2013/impressionist-modern-art-evening-sale-l13002/lot.15.html', '/en/auctions/ecatalogue/2012/impressionist-modern-art-evening-sale-n08898/lot.22.html', '/en/auctions/ecatalogue/2012/impressionist-modern-art-evening-sale-n08898/lot.19.html', '/en/auctions/ecatalogue/2012/impressionist-modern-art-evening-sale-n08898/lot.25.html', '/en/auctions/ecatalogue/2012/collection-musicale-andr-meyer/lot.253.html', '/en/auctions/ecatalogue/2012/impressionist-modern-art-n08887/lot.46.html', '/en/auctions/ecatalogue/2012/impressionist-modern-art-evening-sale-l12006/lot.5.html', '/en/auctions/ecatalogue/2012/books-manuscripts-n08864/lot.130.html', '/en/auctions/ecatalogue/2012/art-impressionniste-et-moderne-pf1206/lot.30.html', '/en/auctions/ecatalogue/2011/impressionist-modern-art-day-sale-n08851/lot.210.html', '/en/auctions/ecatalogue/2012/from-the-collection-of-prince-and-princess-henry-de-la-tour-dauvergne-lauraguais/lot.336.html', '/en/auctions/ecatalogue/2012/impressionist-modern-art-evening-sale-n08850/lot.35.html', '/en/auctions/ecatalogue/2012/impressionist-modernt-art-evening-sale-l12002/lot.5.html', '/en/auctions/ecatalogue/2012/impressionist-modernt-art-evening-sale-l12002/lot.2.html', '/en/auctions/ecatalogue/2012/impressionist-modernt-art-evening-sale-l12002/lot.47.html', '/en/auctions/ecatalogue/2011/fine-books-manuscripts-n08811/lot.186.html', '/en/auctions/ecatalogue/2011/fine-books-manuscripts-n08811/lot.159.html', '/en/auctions/ecatalogue/2011/fine-books-manuscripts-n08811/lot.161.html', '/en/auctions/ecatalogue/2011/fine-books-manuscripts-n08811/lot.160.html', '/en/auctions/ecatalogue/2011/fine-books-manuscripts-n08811/lot.187.html', '/en/auctions/ecatalogue/2011/impressionist-modern-art-day-sale-n08790/lot.123.html', '/en/auctions/ecatalogue/2011/impressionist-and-modern-art-evening-sale-n08789/lot.9.html', '/en/auctions/ecatalogue/2011/impressionist-and-modern-art-evening-sale-n08789/lot.68.html', '/en/auctions/ecatalogue/2011/impressionist-and-modern-art-evening-sale-n08789/lot.10.html', '/en/auctions/ecatalogue/2011/important-russian-art/lot.11.html', '/en/auctions/ecatalogue/2011/impressionist-modern-art-including-russian-art-n08777/lot.76.html', '/en/auctions/ecatalogue/2011/impressionist-modern-art-day-sale-l11007/lot.160.html', '/en/auctions/ecatalogue/2011/music-and-continental-books-manuscripts-l11402/lot.44.html', '/en/auctions/ecatalogue/2011/impressionist-modern-art-pf1106/lot.53.html', '/en/auctions/ecatalogue/2011/20th-century-british-art-l11141/lot.84.html', '/en/auctions/ecatalogue/2011/19th-century-paintings-n08738/lot.81.html', '/en/auctions/ecatalogue/2011/19th-century-paintings-n08738/lot.39.html', '/en/auctions/ecatalogue/2011/impressionist-modern-art-evening-sale-n08741/lot.32.html', '/en/auctions/ecatalogue/2011/impressionist-modern-art-evening-sale-n08741/lot.1.html', '/en/auctions/ecatalogue/2011/impressionist-modern-art-evening-sale-n08741/lot.5.html', '/en/auctions/ecatalogue/2011/impressionist-and-modern-art-n08747/lot.36.html', '/en/auctions/ecatalogue/2011/impressionist-modern-art-day-sale-l11005/lot.329.html', '/en/auctions/ecatalogue/2011/impressionist-modern-art-day-sale-l11005/lot.317.html', '/en/auctions/ecatalogue/2011/impressionist-modern-art-evening-sale-l11002/lot.15.html', '/en/auctions/ecatalogue/2010/contemporary-art-pf1029/lot.15.html', '/en/auctions/ecatalogue/2010/19th-century-european-art-n08673/lot.45.html', '/en/auctions/ecatalogue/2010/impressionist-modern-art-day-sale-n08676/lot.126.html', '/en/auctions/ecatalogue/2010/impressionist-modern-art-day-sale-n08676/lot.134.html', '/en/auctions/ecatalogue/2010/impressionist-modern-art-evening-sale-n08675/lot.13.html', '/en/auctions/ecatalogue/2010/impressionist-modern-art-evening-sale-n08675/lot.51.html', '/en/auctions/ecatalogue/2010/impressionist-modern-art-evening-sale-n08675/lot.37.html', '/en/auctions/ecatalogue/2010/impressionist-modern-art-including-russian-and-latin-american-art-n08668/lot.18.html', '/en/auctions/ecatalogue/2010/impressionist-modern-art-day-sale-l10007/lot.254.html', '/en/auctions/ecatalogue/2010/impressionist-modern-art-day-sale-l10007/lot.105.html', '/en/auctions/ecatalogue/2010/impressionist-modern-art-evening-sale-l10006/lot.5.html', '/en/auctions/ecatalogue/2010/music-and-continental-books-and-manuscripts-l10402/lot.136.html', '/en/auctions/ecatalogue/2010/music-and-continental-books-and-manuscripts-l10402/lot.137.html', '/en/auctions/ecatalogue/2010/contemporary-art-pf1013/lot.149.html', '/en/auctions/ecatalogue/2010/impressionist-modern-art-evening-sale-n08633/lot.34.html', '/en/auctions/ecatalogue/2010/impressionist-modern-art-evening-sale-n08633/lot.40.html', '/en/auctions/ecatalogue/2010/impressionist-modern-art-evening-sale-n08633/lot.32.html', '/en/auctions/ecatalogue/2010/impressionist-and-modern-art-including-russian-art-n08614/lot.54.html', '/en/auctions/ecatalogue/2009/impressionist-modern-art-evening-sale-n08587/lot.44.html', '/en/auctions/ecatalogue/2009/impressionist-modern-art-evening-sale-n08587/lot.60.html', '/en/auctions/ecatalogue/2009/impressionist-modern-art-evening-sale-n08587/lot.64.html', '/en/auctions/ecatalogue/2009/impressionist-modern-art-including-russian-and-latin-american-art-n08574/lot.25.html', '/en/auctions/ecatalogue/2009/impressionist-modern-art-including-russian-and-latin-american-art-n08574/lot.28.html', '/en/auctions/ecatalogue/2009/impressionist-and-modern-art-evening-sale-l09606/lot.11.html', '/en/auctions/ecatalogue/2009/impressionist-modern-art-evening-sale-n08546/lot.2.html', '/en/auctions/ecatalogue/2009/impressionist-modern-art-evening-sale-n08546/lot.18.html', '/en/auctions/ecatalogue/2009/impressionist-modern-art-evening-sale-n08546/lot.4.html', '/en/auctions/ecatalogue/2009/impressionist-and-modern-art-n08520/lot.26.html', '/en/auctions/ecatalogue/2008/contemporary-art-day-sale-n08490/lot.524.html', '/en/auctions/ecatalogue/2008/contemporary-art-day-sale-n08490/lot.514.html', '/en/auctions/ecatalogue/2008/impressionist-modern-art-evening-sale-n08485/lot.59.html', '/en/auctions/ecatalogue/2008/impressionist-modern-art-evening-sale-n08485/lot.54.html', '/en/auctions/ecatalogue/2008/impressionist-modern-art-evening-sale-n08485/lot.10.html', '/en/auctions/ecatalogue/2008/impressionist-modern-art-evening-sale-n08485/lot.11.html', '/en/auctions/ecatalogue/2008/impressionist-modern-art-evening-sale-n08485/lot.19.html', '/en/auctions/ecatalogue/2008/contemporary-chinese-art-hk0278/lot.411.html', '/en/auctions/ecatalogue/2008/old-master-modern-and-contemporary-prints-l08161/lot.144.html', '/en/auctions/ecatalogue/2008/impressionist-and-modern-art-pf8008/lot.16.html', '/en/auctions/ecatalogue/2008/impressionist-modern-art-day-sale-l08008/lot.311.html', '/en/auctions/ecatalogue/2008/impressionist-modern-art-day-sale-l08008/lot.310.html', '/en/auctions/ecatalogue/2008/impressionist-modern-art-evening-sale-l08007/lot.10.html', '/en/auctions/ecatalogue/2008/modern-contemporary-art-am1052/lot.26.html', '/en/auctions/ecatalogue/2008/impressionist-modern-art-day-sale-n08438/lot.237.html', '/en/auctions/ecatalogue/2008/impressionist-modern-art-day-sale-n08438/lot.149.html', '/en/auctions/ecatalogue/2008/impressionist-modern-art-evening-sale-n08437/lot.7.html', '/en/auctions/ecatalogue/2008/contemporary-art-n08423/lot.40.html', '/en/auctions/ecatalogue/2008/impressionist-and-modern-art-including-russian-and-latin-american-art-n08412/lot.11.html', '/en/auctions/ecatalogue/2008/impressionist-and-modern-art-day-sale-l08005/lot.428.html', '/en/auctions/ecatalogue/2008/impressionist-and-modern-art-evening-sale-l08002/lot.36.html', '/en/auctions/ecatalogue/2008/impressionist-and-modern-art-evening-sale-l08002/lot.69.html', '/en/auctions/ecatalogue/2007/modern-and-contemporary-art-am1036/lot.15.html', '/en/auctions/ecatalogue/2007/books-pf7014/lot.228.html', '/en/auctions/ecatalogue/2007/impressionist-modern-art-day-sale-n08360/lot.144.html', '/en/auctions/ecatalogue/2007/impressionist-modern-art-day-sale-n08360/lot.286.html', '/en/auctions/ecatalogue/2007/impressionist-modern-art-evening-sale-n08359/lot.17.html', '/en/auctions/ecatalogue/2007/impressionist-modern-art-evening-sale-n08359/lot.13.html', '/en/auctions/ecatalogue/2007/impressionist-modern-art-evening-sale-n08359/lot.68.html', '/en/auctions/ecatalogue/2007/impressionist-modern-art-evening-sale-n08359/lot.73.html', '/en/auctions/ecatalogue/2007/contemporary-art-l07026/lot.132.html', '/en/auctions/ecatalogue/2007/paintings-drawings-and-watercolours-am1024/lot.335.html', '/en/auctions/ecatalogue/2007/impressionist-modern-works-on-paper-l07009/lot.109.html', '/en/auctions/ecatalogue/2007/impressionist-modern-art-evening-l07007/lot.7.html', '/en/auctions/ecatalogue/2007/impressionist-modern-art-evening-l07007/lot.11.html', '/en/auctions/ecatalogue/2007/modern-contemporary-art-and-collection-jef-verheyen-and-dani-franque-mi0274/lot.208.html', '/en/auctions/ecatalogue/2007/impressionist-and-modern-art-evening-sale-n08314/lot.6.html', '/en/auctions/ecatalogue/2007/impressionist-and-modern-art-evening-sale-n08314/lot.3.html', '/en/auctions/ecatalogue/2007/chinese-contemporary-art-ii-hk0250/lot.83.html', '/en/auctions/ecatalogue/2007/impressionist-modern-art-n08293/lot.41.html', '/en/auctions/ecatalogue/2007/impressionist-modern-art-n08293/lot.48.html', '/en/auctions/ecatalogue/2007/impressionist-modern-art-n08293/lot.39.html', '/en/auctions/ecatalogue/2007/impressionist-modern-art-n08293/lot.49.html', '/en/auctions/ecatalogue/2007/impressionist-modern-art-n08293/lot.40.html', '/en/auctions/ecatalogue/2007/impressionist-and-modern-art-evening-sale-l07002/lot.32.html', '/en/auctions/ecatalogue/2007/impressionist-and-modern-art-evening-sale-l07002/lot.46.html', '/en/auctions/ecatalogue/2007/impressionist-and-modern-art-evening-sale-l07002/lot.42.html', '/en/auctions/ecatalogue/2007/impressionist-and-modern-art-evening-sale-l07002/lot.52.html', '/en/auctions/ecatalogue/2007/impressionist-and-modern-art-evening-sale-l07002/lot.47.html', '/en/auctions/ecatalogue/2007/impressionist-and-modern-art-evening-sale-l07002/lot.27.html', '/en/auctions/ecatalogue/2006/impressionist-modern-art-day-sale-n08241/lot.271.html', '/en/auctions/ecatalogue/2006/impressionist-modern-art-day-sale-n08241/lot.264.html', '/en/auctions/ecatalogue/2006/impressionist-modern-art-evening-n08239/lot.17.html', '/en/auctions/ecatalogue/2006/impressionist-modern-art-evening-n08239/lot.9.html', '/en/auctions/ecatalogue/2006/impressionist-modern-art-evening-n08239/lot.8.html', '/en/auctions/ecatalogue/2006/impressionist-and-modern-art-n08220/lot.38.html', '/en/auctions/ecatalogue/2006/impressionist-and-modern-art-n08220/lot.39.html', '/en/auctions/ecatalogue/2006/modern-and-contemporary-art-mi0261/lot.258.html', '/en/auctions/ecatalogue/2006/impressionist-modern-art-day-sale-n08197/lot.176.html', '/en/auctions/ecatalogue/2006/impressionist-modern-art-evening-sale-n08195/lot.2.html', '/en/auctions/ecatalogue/2006/impressionist-modern-art-evening-sale-n08195/lot.11.html', '/en/auctions/ecatalogue/2006/impressionist-modern-art-evening-sale-n08195/lot.3.html', '/en/auctions/ecatalogue/2006/impressionist-modern-art-w06710/lot.131.html', '/en/auctions/ecatalogue/2006/impressionist-and-modern-art-n08183/lot.13.html', '/en/auctions/ecatalogue/2006/impressionist-and-modern-works-on-paper-l06006/lot.116.html', '/en/auctions/ecatalogue/2006/impressionist-and-modern-works-on-paper-l06006/lot.114.html', '/en/auctions/ecatalogue/2006/impressionist-and-modern-works-on-paper-l06006/lot.115.html', '/en/auctions/ecatalogue/2006/impressionist-and-modern-works-on-paper-l06006/lot.107.html', '/en/auctions/ecatalogue/2006/impressionist-modern-art-evening-sale-l06002/lot.45.html', '/en/auctions/ecatalogue/2006/old-master-drawings-n08161/lot.187.html', '/en/auctions/ecatalogue/2005/modern-and-contemporary-art-including-belgian-art-1880-1960-am0979/lot.41.html', '/en/auctions/ecatalogue/2005/contemporary-day-n08130/lot.173.html', '/en/auctions/ecatalogue/2005/contemporary-day-n08130/lot.347.html', '/en/auctions/ecatalogue/2005/impressionist-and-modern-art-part-one-n08125/lot.12.html', '/en/auctions/ecatalogue/2005/impressionist-and-modern-art-part-one-n08125/lot.10.html', '/en/auctions/ecatalogue/2005/impressionist-and-modern-art-part-one-n08125/lot.57.html', '/en/auctions/ecatalogue/2005/impressionist-and-modern-art-part-one-n08125/lot.54.html', '/en/auctions/ecatalogue/2005/impressionist-and-modern-art-part-one-n08125/lot.47.html', '/en/auctions/ecatalogue/2005/impressionist-and-modern-art-part-one-n08125/lot.14.html', '/en/auctions/ecatalogue/2005/contemporary-art-including-property-from-the-collection-of-wolfgang-hahn-l05024/lot.306.html', '/en/auctions/ecatalogue/2005/impressionist-and-modern-art-n01760/lot.43.html', '/en/auctions/ecatalogue/2005/contemporary-part-2-l05023/lot.330.html', '/en/auctions/ecatalogue/2005/contemporary-part-2-l05023/lot.317.html', '/en/auctions/ecatalogue/2005/works-on-paper-l05009/lot.115.html', '/en/auctions/ecatalogue/2005/impressionist-modern-art-evening-sale-l05007/lot.10.html', '/en/auctions/ecatalogue/2005/impressionist-modern-art-evening-sale-l05007/lot.16.html', '/en/auctions/ecatalogue/2005/impressionist-modern-art-part-one-n08089/lot.5.html', '/en/auctions/ecatalogue/2005/impressionist-modern-art-part-one-n08089/lot.6.html', '/en/auctions/ecatalogue/2005/impressionist-modern-art-part-one-n08089/lot.43.html', '/en/auctions/ecatalogue/2005/the-library-of-george-cosmatos-part-1-l05400/lot.444.html', '/en/auctions/ecatalogue/2005/impressionist-and-modern-art-day-sale-l05003/lot.419.html', '/en/auctions/ecatalogue/2005/german-and-austrian-art-impressionist-and-modern-art-evening-sale-and-surrealist-art-l05002/lot.34.html', '/en/auctions/ecatalogue/2005/impressionist-modern-art-n08064/lot.59.html', '/en/auctions/ecatalogue/2005/impressionist-modern-art-n08064/lot.35.html', '/en/auctions/ecatalogue/2004/old-master-modern-and-contemporary-print-l04162/lot.264.html', '/en/auctions/ecatalogue/2004/impressionist-modern-art-part-one-n08022/lot.45.html', '/en/auctions/ecatalogue/2004/impressionist-modern-art-part-one-n08022/lot.28.html', '/en/auctions/ecatalogue/2004/the-private-collection-of-mira-jacob-galerie-le-bateau-lavoirbr19th-and-20th-century-works-on-paper-paintings-prints-and-books-pf4022/lot.316.html', '/en/auctions/ecatalogue/2004/old-master-modern-and-contemporary-prints-including-andy-warhol-and-the-pop-generation-l04160/lot.232.html', '/en/auctions/ecatalogue/2004/old-master-modern-and-contemporary-prints-including-andy-warhol-and-the-pop-generation-l04160/lot.233.html', '/en/auctions/ecatalogue/2004/old-master-modern-and-contemporary-prints-including-andy-warhol-and-the-pop-generation-l04160/lot.234.html', '/en/auctions/ecatalogue/2004/continental-books-and-manuscripts-l04405/lot.120.html', '/en/auctions/ecatalogue/2004/impressionist-and-modern-art-evening-sale-l04007/lot.17.html', '/en/auctions/ecatalogue/2004/impressionist-and-modern-art-evening-sale-l04007/lot.10.html', '/en/auctions/ecatalogue/2004/impressionist-and-modern-art-part-one-n07990/lot.133.html', '/en/auctions/ecatalogue/2004/impressionist-and-modern-art-part-two-n07991/lot.209.html', '/en/auctions/ecatalogue/2004/property-of-the-greentree-foundation-from-the-collection-of-mr-and-mrs-john-hay-whitney-impressionist-and-modern-art-n07989/lot.9.html', '/en/auctions/ecatalogue/2004/prints-n07988/lot.161.html', '/en/auctions/ecatalogue/2004/impressionist-modern-art-n07968/lot.15.html', '/en/auctions/ecatalogue/2004/impressionist-modern-art-n07968/lot.21.html', '/en/auctions/ecatalogue/2004/impressionist-modern-art-works-on-paper-l04006/lot.412.html', '/en/auctions/ecatalogue/2004/impressionist-modern-art-evening-l04002/lot.34.html', '/en/auctions/ecatalogue/2003/old-master-modern-contemporary-prints-l03163/lot.178.html', '/en/auctions/ecatalogue/2003/modern-and-contemporary-art-mi0219/lot.1.html', '/en/auctions/ecatalogue/2003/impressionist-modern-art-part-one-n07934/lot.16.html', '/en/auctions/ecatalogue/2003/impressionist-modern-art-part-one-n07934/lot.15.html', '/en/auctions/ecatalogue/2003/impressionist-modern-art-part-one-n07934/lot.8.html', '/en/auctions/ecatalogue/2003/impressionist-modern-art-part-one-n07934/lot.3.html', '/en/auctions/ecatalogue/2003/impressionist-modern-art-part-one-n07890/lot.21.html', '/en/auctions/ecatalogue/2003/impressionist-modern-art-part-one-n07890/lot.19.html', '/en/auctions/ecatalogue/2003/impressionist-and-modern-art-n07875/lot.38.html', '/en/auctions/ecatalogue/2003/impressionist-and-modern-art-n07875/lot.40.html', '/en/auctions/ecatalogue/2002/out-takes-from-the-collections-of-stanley-j-seeger-w02921/lot.344.html', '/en/auctions/ecatalogue/2002/old-master-modern-and-contemporary-prints-l02195/lot.161.html', '/en/auctions/ecatalogue/2002/impressionist-modern-art-part-one-including-property-from-the-robert-c-guccione-collection-n07838/lot.10.html', '/en/auctions/ecatalogue/2002/impressionist-modern-art-part-one-including-property-from-the-robert-c-guccione-collection-n07838/lot.12.html', '/en/auctions/ecatalogue/2002/impressionist-modern-art-part-one-including-property-from-the-robert-c-guccione-collection-n07838/lot.7.html', '/en/auctions/ecatalogue/2002/impressionist-modern-art-part-one-including-property-from-the-robert-c-guccione-collection-n07838/lot.5.html', '/en/auctions/ecatalogue/2002/impressionist-modern-art-part-one-including-property-from-the-robert-c-guccione-collection-n07838/lot.17.html', '/en/auctions/ecatalogue/2002/photographs-n07831/lot.84.html', '/en/auctions/ecatalogue/2002/impressionist-and-modern-art-day-sale-l02008/lot.123.html', '/en/auctions/ecatalogue/2002/impressionist-and-modern-art-evening-sale-l02005/lot.6.html', '/en/auctions/ecatalogue/2002/impressionist-and-modern-art-evening-sale-l02005/lot.9.html', '/en/auctions/ecatalogue/2002/impressionist-modern-art-part-one-n07791/lot.15.html', '/en/auctions/ecatalogue/2002/impressionist-and-modern-art-n07767/lot.40.html', '/en/auctions/ecatalogue/2002/impressionist-and-modern-art-n07767/lot.38.html', '/en/auctions/ecatalogue/2002/impressionist-modern-art-part-one-l02002/lot.9.html', '/en/auctions/ecatalogue/2002/impressionist-modern-art-part-one-l02002/lot.6.html', '/en/auctions/ecatalogue/2001/impressionist-and-modern-art-part-one-n07720/lot.6.html', '/en/auctions/ecatalogue/2001/motorcycles-and-bicycles-ch7692/lot.146.html', '/en/auctions/ecatalogue/2001/paintings-b01058/lot.1670.html', '/en/auctions/ecatalogue/2001/impressionist-and-modern-art-part-ii-l01005/lot.125A.html', '/en/auctions/ecatalogue/2001/impressionist-and-modern-art-part-i-l01004/lot.6.html', '/en/auctions/ecatalogue/2001/impressionist-and-modern-art-part-i-l01004/lot.3.html', '/en/auctions/ecatalogue/2001/paintings-b01044/lot.1539.html', '/en/auctions/ecatalogue/2001/impressionist-and-modern-art-part-one-ny7648/lot.218.html', '/en/auctions/ecatalogue/2001/impressionist-and-modern-art-part-one-ny7648/lot.208.html', '/en/auctions/ecatalogue/2001/impressionist-and-modern-art-part-one-ny7648/lot.216.html', '/en/auctions/ecatalogue/2001/impressionist-modern-art-ny7610/lot.8.html', '/en/auctions/ecatalogue/2001/impressionist-and-modern-art-part-ii-l01002/lot.117.html', '/en/auctions/ecatalogue/2001/impressionist-and-modern-art-part-i-l01001/lot.8.html', '/en/auctions/ecatalogue/2001/impressionist-and-modern-art-part-i-l01001/lot.10.html', '/en/auctions/ecatalogue/2000/continental-books-and-manuscripts-l00210/lot.150.html', '/en/auctions/ecatalogue/2000/continental-books-and-manuscripts-l00210/lot.151.html', '/en/auctions/ecatalogue/2000/continental-books-and-manuscripts-l00210/lot.149.html', '/en/auctions/ecatalogue/2000/impressionist-and-modern-art-part-one-ny7545/lot.24.html', '/en/auctions/ecatalogue/2000/impressionist-and-modern-art-part-one-ny7545/lot.6.html', '/en/auctions/ecatalogue/2000/impressionist-and-modern-art-part-one-ny7545/lot.19.html', '/en/auctions/ecatalogue/2000/impressionist-and-modern-art-part-one-ny7545/lot.10.html', '/en/auctions/ecatalogue/2000/impressionist-and-modern-art-l00101/lot.11.html', '/en/auctions/ecatalogue/2000/impressionist-and-modern-art-l00101/lot.14.html', '/en/auctions/ecatalogue/2000/impressionist-modern-art-part-ii-ny7467/lot.113.html', '/en/auctions/ecatalogue/2000/impressionist-modern-art-part-ii-ny7467/lot.117.html', '/en/auctions/ecatalogue/2000/impressionist-modern-art-part-i-ny7466/lot.6.html', '/en/auctions/ecatalogue/2000/impressionist-modern-art-part-i-ny7466/lot.18.html', '/en/auctions/ecatalogue/2000/impressionist-modern-art-part-i-ny7466/lot.10.html', '/en/auctions/ecatalogue/2000/impressionist-modern-art-part-i-ny7466/lot.15.html', '/en/auctions/ecatalogue/2000/impressionist-modern-art-part-i-ny7466/lot.22.html', '/en/auctions/ecatalogue/2000/impressionist-modern-art-part-i-ny7466/lot.17.html', '/en/auctions/ecatalogue/2000/impressionist-modern-and-contemporary-art-ny7433/lot.27.html', '/en/auctions/ecatalogue/2000/impressionist-modern-and-contemporary-art-ny7433/lot.32.html']\n"
     ]
    }
   ],
   "source": [
    "from selenium import webdriver\n",
    "from selenium.webdriver.common.keys import Keys\n",
    "import time\n",
    "\n",
    "driver = webdriver.Firefox()\n",
    "\n",
    "driver.get('http://www.sothebys.com/en/search-results.html?keyword=monet#&filter=type/LOT+period/Past')\n",
    "\n",
    "for i in range(20):\n",
    "    driver.execute_script(\"window.scrollTo(0, document.body.scrollHeight);\")\n",
    "    time.sleep(1)\n",
    "    \n",
    "source_code = driver.page_source\n",
    "driver.close()\n",
    "\n",
    "soup = BeautifulSoup(source_code, 'lxml')\n",
    "search_results = soup.find_all(\"div\", class_='search-results-name')\n",
    "\n",
    "# identify each URL and collect in the list search_results\n",
    "search_result_url_list = []\n",
    "for search_result in search_results:\n",
    "    try:\n",
    "        lot_link = search_result.find(\"a\")\n",
    "        search_result_url_list.append(lot_link['href'])\n",
    "        #search_result_url_list.append(re.match(r'href', search_result)[0]) \n",
    "    except:\n",
    "        pass #not a valid link for us\n",
    "print(search_result_url_list)"
   ]
  },
  {
   "cell_type": "code",
   "execution_count": 75,
   "metadata": {},
   "outputs": [
    {
     "data": {
      "text/plain": [
       "408"
      ]
     },
     "execution_count": 75,
     "metadata": {},
     "output_type": "execute_result"
    }
   ],
   "source": [
    "len(search_result_url_list)"
   ]
  },
  {
   "cell_type": "code",
   "execution_count": null,
   "metadata": {
    "collapsed": true
   },
   "outputs": [],
   "source": [
    "def "
   ]
  },
  {
   "cell_type": "code",
   "execution_count": null,
   "metadata": {
    "collapsed": true
   },
   "outputs": [],
   "source": []
  }
 ],
 "metadata": {
  "kernelspec": {
   "display_name": "Python 3",
   "language": "python",
   "name": "python3"
  },
  "language_info": {
   "codemirror_mode": {
    "name": "ipython",
    "version": 3
   },
   "file_extension": ".py",
   "mimetype": "text/x-python",
   "name": "python",
   "nbconvert_exporter": "python",
   "pygments_lexer": "ipython3",
   "version": "3.6.0"
  }
 },
 "nbformat": 4,
 "nbformat_minor": 2
}
