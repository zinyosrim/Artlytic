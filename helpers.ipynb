{
 "cells": [
  {
   "cell_type": "code",
   "execution_count": 55,
   "metadata": {
    "collapsed": true
   },
   "outputs": [],
   "source": [
    "# helpers\n",
    "\n",
    "def timestamp_index():\n",
    "    return datetime.now().isoformat().replace(':', '-').replace('.', '-')\n",
    "\n",
    "def strip_accents(s):\n",
    "    '''Takes a string as input. Helper function to normalize strings. \n",
    "    Returns the string with removed accents. Keeps Umlauts'''\n",
    "\n",
    "    return ''.join(c for c in unicodedata.normalize('NFD', s)\n",
    "              if not unicodedata.name(c).endswith('ACCENT'))"
   ]
  },
  {
   "cell_type": "code",
   "execution_count": null,
   "metadata": {
    "collapsed": true
   },
   "outputs": [],
   "source": [
    "def load_JSON_file_to_list(list):\n",
    "    file_name = artlytic.data_path + "
   ]
  },
  {
   "cell_type": "code",
   "execution_count": 57,
   "metadata": {},
   "outputs": [
    {
     "name": "stdout",
     "output_type": "stream",
     "text": [
      "Good, bad, and ugly\n"
     ]
    }
   ],
   "source": [
    "from bs4 import BeautifulSoup\n",
    "html = \"<p>Good, <b>bad</b>, and <i>ug<b>l</b><u>y</u></i></p>\"\n",
    "#invalid_tags = ['b', 'i', 'u']\n",
    "soup = BeautifulSoup(html, 'lxml')\n",
    "cont = soup.find('p').get_text()\n",
    "print(cont)\n"
   ]
  },
  {
   "cell_type": "code",
   "execution_count": 62,
   "metadata": {},
   "outputs": [
    {
     "ename": "SyntaxError",
     "evalue": "can't assign to function call (<ipython-input-62-3acf0a3edb3f>, line 14)",
     "output_type": "error",
     "traceback": [
      "\u001b[0;36m  File \u001b[0;32m\"<ipython-input-62-3acf0a3edb3f>\"\u001b[0;36m, line \u001b[0;32m14\u001b[0m\n\u001b[0;31m    for keyword.lower() in museum_keywords:\u001b[0m\n\u001b[0m       ^\u001b[0m\n\u001b[0;31mSyntaxError\u001b[0m\u001b[0;31m:\u001b[0m can't assign to function call\n"
     ]
    }
   ],
   "source": [
    "from bs4 import BeautifulSoup\n",
    "import collections\n",
    "html = '<p id=\"main_center_0_lblExhibited\">Good, <b>bad</b>, and <i>ug<b>l</b><u>y</u></i></p>'\n",
    "soups = BeautifulSoup(html,'lxml')\n",
    "def number_of_exhibitions_in_major_museum(text):\n",
    "    museum_keywords = ['museum', 'musée', 'museo', 'beyeler', 'thannhauser', \n",
    "                      'gmurzynska', 'georges petit', 'matthiesen', 'national gallery', 'tate modern',\n",
    "                      'somerset house', 'wilanów palace', 'the national art center', 'Galleria degli Uffizi',\n",
    "                      'National Portrait Gallery', 'Art Institute of Chicago', 'Saatchi Gallery',\n",
    "                      'Wawel Royal Castle', 'Galleria dell''Accademia', 'National Galleries of Scotland',\n",
    "                      'Grand Palais', 'Tretyakov', 'Tate Britain', 'Royal Academy of Arts',\n",
    "                      'Minneapolis Institute of Art']\n",
    "    counter = 0\n",
    "    for keyword.lower() in museum_keywords:\n",
    "        counter += text.lower().count(keyword)\n",
    "    return counter\n",
    "def parse_exhibited_in(soup):\n",
    "    exhibited_in = soup.find('p', id=\"main_center_0_lblExhibited\")\n",
    "    return \"\" if not exhibited_in else soup.find('p', id=\"main_center_0_lblExhibited\").get_text()\n",
    "def parse_exhibited_in_museums(soup):\n",
    "    e = parse_exhibited_in(soup) \n",
    "    if e == \"\": return 0\n",
    "    else:\n",
    "        exhibited_text_lower = e.replace('\\n',' ').replace('\\r',' ').lower()\n",
    "        return  number_of_exhibitions_in_major_museum(exhibited_text_lower)\n",
    "parse_exhibited_in_museums(soups)"
   ]
  },
  {
   "cell_type": "code",
   "execution_count": 70,
   "metadata": {},
   "outputs": [
    {
     "name": "stdout",
     "output_type": "stream",
     "text": [
      "WorkerWorker\n",
      "\n",
      "Worker\n",
      "Worker\n",
      "Worker\n"
     ]
    }
   ],
   "source": [
    "import threading\n",
    "\n",
    "def worker():\n",
    "    \"\"\"thread worker function\"\"\"\n",
    "    print('Worker')\n",
    "    return\n",
    "\n",
    "threads = []\n",
    "for i in range(5):\n",
    "    t = threading.Thread(target=worker)\n",
    "    threads.append(t)\n",
    "    t.start()\n",
    "              "
   ]
  },
  {
   "cell_type": "markdown",
   "metadata": {},
   "source": [
    "![title](img.png)"
   ]
  },
  {
   "cell_type": "code",
   "execution_count": null,
   "metadata": {
    "collapsed": true
   },
   "outputs": [],
   "source": []
  }
 ],
 "metadata": {
  "kernelspec": {
   "display_name": "Python 3",
   "language": "python",
   "name": "python3"
  },
  "language_info": {
   "codemirror_mode": {
    "name": "ipython",
    "version": 3
   },
   "file_extension": ".py",
   "mimetype": "text/x-python",
   "name": "python",
   "nbconvert_exporter": "python",
   "pygments_lexer": "ipython3",
   "version": "3.6.0"
  }
 },
 "nbformat": 4,
 "nbformat_minor": 2
}
